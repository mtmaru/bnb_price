{
 "cells": [
  {
   "cell_type": "code",
   "execution_count": 1,
   "id": "fcf354b6-04df-47fb-b4e1-7b55a444a803",
   "metadata": {},
   "outputs": [],
   "source": [
    "import pandas as pd"
   ]
  },
  {
   "cell_type": "code",
   "execution_count": 2,
   "id": "7382d96c-ee36-4509-9b59-b5f678b81946",
   "metadata": {},
   "outputs": [],
   "source": [
    "# TODO: 各自のサブミット用データのパスに書き換える\n",
    "submission = pd.read_csv(\"./submit/submission.csv\")"
   ]
  },
  {
   "cell_type": "code",
   "execution_count": 3,
   "id": "6c970cce-e172-4b11-8ab1-62723d7ee7c6",
   "metadata": {},
   "outputs": [],
   "source": [
    "train = pd.read_csv(\"./data/train_data.csv\")\n",
    "test = pd.read_csv(\"./data/test_data.csv\")"
   ]
  },
  {
   "cell_type": "code",
   "execution_count": 4,
   "id": "ce058fa4-69d0-4c8b-9d9a-80670d251bd7",
   "metadata": {},
   "outputs": [],
   "source": [
    "submission = (\n",
    "    submission.\n",
    "    merge(test[[\"id\", \"host_id\", \"name\", \"room_type\", \"neighbourhood\"]], how = \"left\", on = \"id\")\n",
    ")\n",
    "\n",
    "# 高額施設 \"Uhome ...\" を90万円に置き換える\n",
    "# \"Uhome ...\" だけでなく、同じホストが運営する他施設も同様に置き換える\n",
    "submission = (\n",
    "    submission.\n",
    "    assign(y = lambda df:\n",
    "        df[\"y\"].mask(\n",
    "            df[\"host_id\"].isin(df.loc[lambda df: df[\"name\"].str.lower().str.contains(\"uhome\"), \"host_id\"]),\n",
    "            900000\n",
    "        )\n",
    "    )\n",
    ")\n",
    "\n",
    "# 日割料金ではなく誤って月額料金を設定してしまっていると思われる施設 \"★Monthly Rental ...\" の\n",
    "# 一軒家を20万円に、一軒家以外を10万円に置き換える\n",
    "# \"★Monthly Rental ...\" だけでなく、同じホストが運営する他施設も同様に置き換える\n",
    "submission = (\n",
    "    submission.\n",
    "    assign(y = lambda df:\n",
    "        df[\"y\"].mask(\n",
    "            df[\"host_id\"].isin(df.loc[lambda df: df[\"name\"].str.contains(\"★Monthly Rental\"), \"host_id\"]) & df[\"name\"].str.lower().str.contains(\"house\"),\n",
    "            200000\n",
    "        )\n",
    "    ).\n",
    "    assign(y = lambda df:\n",
    "        df[\"y\"].mask(\n",
    "            df[\"host_id\"].isin(df.loc[lambda df: df[\"name\"].str.contains(\"★Monthly Rental\"), \"host_id\"]) & ~df[\"name\"].str.lower().str.contains(\"house\"),\n",
    "            100000\n",
    "        )\n",
    "    )\n",
    ")\n",
    "\n",
    "# シェアルームタイプの施設の予測結果が学習データの分布より上振れしているため、\n",
    "# 学習データの価格の中央値に置き換える\n",
    "submission = (\n",
    "    submission.\n",
    "    # 所在地別の中央値に置き換える\n",
    "    merge(train.groupby([\"room_type\", \"neighbourhood\"])[\"y\"].median().rename(\"y_median\"), how = \"left\", on = [\"room_type\", \"neighbourhood\"]).\n",
    "    assign(y = lambda df: df[\"y\"].mask(df[\"room_type\"] == \"Shared room\", df[\"y_median\"])).\n",
    "    drop(columns = [\"y_median\"]).\n",
    "    # 学習データにシェアルームタイプの施設がない所在地については、全体の中央値に置き換える\n",
    "    merge(train.groupby([\"room_type\"])[\"y\"].median().rename(\"y_median\"), how = \"left\", on = [\"room_type\"]).\n",
    "    assign(y = lambda df: df[\"y\"].mask(df[\"y\"].isna(), df[\"y_median\"])).\n",
    "    drop(columns = [\"y_median\"])\n",
    ")\n",
    "\n",
    "# 施設名称に \"Simple\" が含まれる施設の予測結果が学習データの分布より上振れしているため、\n",
    "# 学習データの価格の中央値に置き換える\n",
    "submission = (\n",
    "    submission.\n",
    "    merge(train.loc[lambda df: df[\"name\"].str.contains(\"Simple\"), :].groupby([\"room_type\"])[\"y\"].median().rename(\"y_median\"), how = \"left\", on = [\"room_type\"]).\n",
    "    assign(y = lambda df: df[\"y\"].mask(df[\"name\"].str.contains(\"Simple\"), df[\"y_median\"])).\n",
    "    drop(columns = [\"y_median\"])\n",
    ")\n",
    "\n",
    "submission = submission[[\"id\", \"y\"]].copy()"
   ]
  },
  {
   "cell_type": "code",
   "execution_count": 5,
   "id": "d27d89f0-e4d4-4f6c-a02e-9cfe0e9e702a",
   "metadata": {},
   "outputs": [],
   "source": [
    "# TODO: 各自の出力先に書き換える\n",
    "submission.to_csv(\"./submit/submission.csv\", index = False, header = True)"
   ]
  }
 ],
 "metadata": {
  "kernelspec": {
   "display_name": "Python 3",
   "language": "python",
   "name": "python3"
  },
  "language_info": {
   "codemirror_mode": {
    "name": "ipython",
    "version": 3
   },
   "file_extension": ".py",
   "mimetype": "text/x-python",
   "name": "python",
   "nbconvert_exporter": "python",
   "pygments_lexer": "ipython3",
   "version": "3.8.8"
  }
 },
 "nbformat": 4,
 "nbformat_minor": 5
}
